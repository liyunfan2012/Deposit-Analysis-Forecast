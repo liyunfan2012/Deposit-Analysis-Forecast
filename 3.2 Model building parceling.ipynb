{
 "cells": [
  {
   "cell_type": "markdown",
   "id": "83a1b15e-12a1-4f12-b563-23b0bf45b48a",
   "metadata": {},
   "source": [
    "# Model Building"
   ]
  },
  {
   "cell_type": "markdown",
   "id": "7c0291a5-c421-4e06-af1d-fb91922f31cc",
   "metadata": {},
   "source": [
    "Build logistic regression model for Domestic office deposits_Avg_growth_ratio."
   ]
  },
  {
   "cell_type": "code",
   "execution_count": 1,
   "id": "be72f7a9-5869-42f2-8faf-3eddf08b8586",
   "metadata": {},
   "outputs": [],
   "source": [
    "import pandas as pd\n",
    "pd.set_option('display.width', 200)\n",
    "pd.set_option('display.max_columns', None)\n",
    "from sklearn.linear_model import LogisticRegression\n",
    "import pandas as pd\n",
    "\n",
    "y = 'Domestic office deposits_Avg_growth_ratio'\n",
    "col_deposits = ['Domestic office deposits', \n",
    "                'Interest-bearing deposits', \n",
    "                'Noninterest-bearing deposits', \n",
    "                'Time deposits']"
   ]
  },
  {
   "cell_type": "markdown",
   "id": "cc546626-ef68-49a9-b367-b7eaf0ba9cc3",
   "metadata": {},
   "source": [
    "## Data Preparation"
   ]
  },
  {
   "cell_type": "markdown",
   "id": "eadb42ce-350b-4536-8bc8-f9f1279dff25",
   "metadata": {},
   "source": [
    "### Split Data\n",
    "\n",
    "Last 6 timekeys for OOT, all others as training"
   ]
  },
  {
   "cell_type": "code",
   "execution_count": 2,
   "id": "af07823a-23d1-4e2a-ab0d-65adb2351196",
   "metadata": {},
   "outputs": [],
   "source": [
    "df = pd.read_csv('data/full_modeling.csv').sort_values('timekey').reset_index(drop=True)\n",
    "df = df[~df[y].isnull()]\n",
    "\n",
    "targets = [col for col in df.columns if 'deposits' in col]\n",
    "cols_X = df.columns\n",
    "for target in col_deposits + ['timekey']:\n",
    "    cols_X = [col for col in cols_X if target not in col]\n",
    "\n",
    "y_l, y_h = 0.98, 1.1\n",
    "def f(x):\n",
    "    return (x - y_l)/(y_h - y_l)\n",
    "def f_inv(x):\n",
    "    return y_l + (y_h - y_l)*x\n",
    "df['y'] = df[y].apply(f)\n",
    "\n",
    "oot_data, train_data = df.tail(6), df.iloc[:-6]\n",
    "X_oot, y_oot = oot_data[cols_X], oot_data['y']"
   ]
  },
  {
   "cell_type": "markdown",
   "id": "35ef7b05-f8a5-44e7-9fa7-c61eb42156d3",
   "metadata": {},
   "source": [
    "### Parceling"
   ]
  },
  {
   "cell_type": "markdown",
   "id": "f4ca6daf-665a-41c1-97c9-5804b5e39cd6",
   "metadata": {},
   "source": [
    "Convert bounded continuous target to binary target with weight."
   ]
  },
  {
   "cell_type": "code",
   "execution_count": 3,
   "id": "f74d92a5-8637-4d1b-b068-97470df69e4c",
   "metadata": {},
   "outputs": [
    {
     "name": "stdout",
     "output_type": "stream",
     "text": [
      "(158, 255)\n"
     ]
    }
   ],
   "source": [
    "df_label1 = train_data.copy()\n",
    "df_label1['label'] = 1\n",
    "df_label1['weight'] = df_label1['y']\n",
    "\n",
    "df_label0 = train_data.copy()\n",
    "df_label0['label'] = 0\n",
    "df_label0['weight'] = 1 - df_label0['y']\n",
    "\n",
    "df_parceled = pd.concat([df_label1, df_label0], ignore_index=True)\n",
    "X_train = df_parceled[cols_X]\n",
    "y_train = df_parceled['label']\n",
    "weights_train = df_parceled['weight']\n",
    "print(X_train.shape)"
   ]
  },
  {
   "cell_type": "markdown",
   "id": "872e2547-fc7f-4911-814c-656d666813ee",
   "metadata": {},
   "source": [
    "### Data preprocessing"
   ]
  },
  {
   "cell_type": "code",
   "execution_count": 4,
   "id": "07300396-e304-43b9-a9e5-9dccb2d65031",
   "metadata": {},
   "outputs": [],
   "source": [
    "from sklearn.pipeline import Pipeline\n",
    "from sklearn.preprocessing import StandardScaler\n",
    "from sklearn.impute import SimpleImputer\n",
    "from sklearn.linear_model import Lasso\n",
    "from sklearn.linear_model import LogisticRegression\n",
    "import numpy as np\n",
    "preprocessor = Pipeline([\n",
    "    ('imputer', SimpleImputer(strategy='median')),\n",
    "    ('scaler', StandardScaler())\n",
    "])\n",
    "\n",
    "X_train_processed = preprocessor.fit_transform(X_train)\n",
    "X_train_processed = pd.DataFrame(X_train_processed, columns=cols_X, index=X_train.index)\n",
    "\n",
    "X_oot_processed = preprocessor.fit_transform(X_oot)\n",
    "X_oot_processed = pd.DataFrame(X_oot_processed, columns=cols_X, index=X_oot.index)"
   ]
  },
  {
   "cell_type": "markdown",
   "id": "0835700e-ffe7-404e-98d6-6ea38dce26c2",
   "metadata": {},
   "source": [
    "## Fit Model\n",
    "### Feature selection with L1"
   ]
  },
  {
   "cell_type": "code",
   "execution_count": 5,
   "id": "54f79890-c832-4318-b350-1841bec22254",
   "metadata": {},
   "outputs": [
    {
     "name": "stdout",
     "output_type": "stream",
     "text": [
      "                  Feature  Coefficient\n",
      "0                 M2_ROC1     0.133729\n",
      "1                 PCE_QOQ    -0.104176\n",
      "2                 M1_LAG8    -0.099848\n",
      "3         TREASURY_3M_CHG    -0.096398\n",
      "4   HOUSE_PRICE_INDEX_QOQ     0.089797\n",
      "5             M2_YOY_LAG4    -0.045697\n",
      "6                  M2_QOQ     0.043200\n",
      "7                  M2_YOY     0.030869\n",
      "8        TREASURY_30Y_CHG    -0.018933\n",
      "9     PERSONAL_INCOME_YOY     0.016444\n",
      "10       RETAIL_SALES_YOY     0.015544\n",
      "11           CPI_QOQ_LAG4    -0.011521\n",
      "12  TREASURY_10Y_CHG_LAG4    -0.006990\n"
     ]
    }
   ],
   "source": [
    "from sklearn.linear_model import LogisticRegression\n",
    "# Logistic Regression with L1 penalty for feature selection\n",
    "logistic_l1 = LogisticRegression(\n",
    "    penalty='l1',\n",
    "    solver='liblinear',\n",
    "    C=1,  \n",
    "    max_iter=100000,\n",
    "    tol=1e-3,\n",
    "    random_state=42\n",
    ")\n",
    "logistic_l1.fit(X_train_processed, y_train, sample_weight=weights_train)\n",
    "\n",
    "coefficients = pd.DataFrame({\n",
    "    'Feature': cols_X,\n",
    "    'Coefficient': logistic_l1.coef_.ravel()  # Use .ravel() since LogisticRegression returns 2D array\n",
    "}).sort_values('Coefficient', ascending=False, key=abs).reset_index(drop=True)\n",
    "coefficients = coefficients[coefficients['Coefficient']!=0]\n",
    "print(coefficients)  "
   ]
  },
  {
   "cell_type": "markdown",
   "id": "f97e0944-e48a-4904-8af3-fa374a41ad12",
   "metadata": {},
   "source": [
    "### Logistic Regression with Selected Feature"
   ]
  },
  {
   "cell_type": "code",
   "execution_count": 6,
   "id": "5690aafd-a30c-4b8d-83ce-f3176c9c459a",
   "metadata": {},
   "outputs": [
    {
     "name": "stdout",
     "output_type": "stream",
     "text": [
      "                  feature  coefficient\n",
      "0                 PCE_QOQ    -0.271215\n",
      "1                 M1_LAG8    -0.155636\n",
      "2         TREASURY_3M_CHG    -0.143530\n",
      "3   HOUSE_PRICE_INDEX_QOQ     0.217780\n",
      "4             M2_YOY_LAG4    -0.150782\n",
      "5                  M2_QOQ     0.157582\n",
      "6                  M2_YOY     0.076210\n",
      "7        TREASURY_30Y_CHG    -0.028863\n",
      "8     PERSONAL_INCOME_YOY     0.022779\n",
      "9        RETAIL_SALES_YOY     0.174150\n",
      "10           CPI_QOQ_LAG4    -0.032525\n",
      "11  TREASURY_10Y_CHG_LAG4    -0.017421\n",
      "12              intercept    -0.935323\n"
     ]
    }
   ],
   "source": [
    "cols_X_short = coefficients['Feature'].tolist()\n",
    "cols_X_short = [col for col in cols_X_short if col not in ['M2_ROC1']]\n",
    "X_train_processed_short = X_train_processed[cols_X_short]\n",
    "\n",
    "logistic = LogisticRegression(penalty='none',max_iter=20000)\n",
    "logistic.fit(X_train_processed_short, y_train, sample_weight=weights_train)\n",
    "\n",
    "all_params = np.concatenate([logistic.coef_.ravel(), logistic.intercept_])\n",
    "coef_df = pd.DataFrame({\n",
    "    \"feature\": cols_X_short+['intercept'],\n",
    "    \"coefficient\": all_params})\n",
    "print(coef_df)"
   ]
  },
  {
   "cell_type": "markdown",
   "id": "82db3bfa-4d15-4262-be6a-75f3e3391d97",
   "metadata": {},
   "source": [
    "### Model performance"
   ]
  },
  {
   "cell_type": "markdown",
   "id": "396e1473-e1e9-45cd-a7b1-26efb806dfd7",
   "metadata": {},
   "source": [
    "### MultiColinearity Check"
   ]
  },
  {
   "cell_type": "code",
   "execution_count": 7,
   "id": "fc7839d3-366b-4ee6-a19b-d4e40343354e",
   "metadata": {},
   "outputs": [
    {
     "name": "stdout",
     "output_type": "stream",
     "text": [
      "Variance Inflation Factor:\n",
      "                  Feature       VIF\n",
      "9        RETAIL_SALES_YOY  4.516573\n",
      "8     PERSONAL_INCOME_YOY  3.013727\n",
      "6                  M2_YOY  2.967152\n",
      "0                 PCE_QOQ  2.516457\n",
      "5                  M2_QOQ  2.324334\n",
      "10           CPI_QOQ_LAG4  1.932300\n",
      "1                 M1_LAG8  1.874667\n",
      "2         TREASURY_3M_CHG  1.793689\n",
      "3   HOUSE_PRICE_INDEX_QOQ  1.792858\n",
      "4             M2_YOY_LAG4  1.741646\n",
      "11  TREASURY_10Y_CHG_LAG4  1.600625\n",
      "7        TREASURY_30Y_CHG  1.529885\n"
     ]
    }
   ],
   "source": [
    "from statsmodels.stats.outliers_influence import variance_inflation_factor\n",
    "def calculate_vif(X):\n",
    "    vif_data = pd.DataFrame()\n",
    "    vif_data[\"Feature\"] = X.columns\n",
    "    vif_data[\"VIF\"] = [variance_inflation_factor(X.values, i) for i in range(X.shape[1])]\n",
    "    return vif_data.sort_values('VIF', ascending=False)\n",
    "\n",
    "vif = calculate_vif(X_train_processed_short)\n",
    "print(f\"Variance Inflation Factor:\\n{vif}\")"
   ]
  },
  {
   "cell_type": "markdown",
   "id": "972d0ca6-f268-4965-852b-458a1eee34f7",
   "metadata": {},
   "source": [
    "### Mean absolute error"
   ]
  },
  {
   "cell_type": "code",
   "execution_count": 8,
   "id": "0b8f2632-e359-4ce1-b117-8294ee4d8d3c",
   "metadata": {},
   "outputs": [
    {
     "name": "stdout",
     "output_type": "stream",
     "text": [
      "Mean Absolute Error\n",
      "{'train': 0.0056352461023128795, 'oot': 0.007875988786832952}\n"
     ]
    }
   ],
   "source": [
    "y_pred_train = logistic.predict_proba(X_train_processed_short)[:, 1]\n",
    "valid_train = pd.DataFrame({'y_pred':y_pred_train, 'w':weights_train})[y_train==1]\n",
    "valid_train['y_pred_scaled'] =  valid_train['y_pred'].apply(f_inv)\n",
    "valid_train['w_scaled'] = valid_train['w'].apply(f_inv)\n",
    "\n",
    "y_pred_oot = logistic.predict_proba(X_oot_processed[cols_X_short])[:, 1]\n",
    "valid_oot = pd.DataFrame({'y_pred':y_pred_oot, 'w':y_oot})\n",
    "valid_oot['y_pred_scaled'] = valid_oot['y_pred'].apply(f_inv)\n",
    "valid_oot['w_scaled'] = valid_oot['w'].apply(f_inv)\n",
    "\n",
    "maes = {}\n",
    "maes['train'] = np.mean(np.abs(valid_train['w_scaled'] - valid_train['y_pred_scaled']))\n",
    "maes['oot'] = np.mean(np.abs(valid_oot['w_scaled'] - valid_oot['y_pred_scaled']))\n",
    "\n",
    "print('Mean Absolute Error')\n",
    "print(maes)"
   ]
  },
  {
   "cell_type": "markdown",
   "id": "006e2a6c-c4ba-4c8e-8431-cffcd0ee3ceb",
   "metadata": {},
   "source": [
    "### Backtesting"
   ]
  },
  {
   "cell_type": "markdown",
   "id": "66086cd0-079f-4d2f-9b2d-fe27e08a25d9",
   "metadata": {},
   "source": [
    "- Calculate deposits from predicted growth"
   ]
  },
  {
   "cell_type": "code",
   "execution_count": 9,
   "id": "9d327f19-f811-4220-9c51-f1c39c1a8e06",
   "metadata": {},
   "outputs": [
    {
     "data": {
      "image/png": "[encoded data removed]",
      "text/plain": [
       "<Figure size 864x432 with 1 Axes>"
      ]
     },
     "metadata": {
      "needs_background": "light"
     },
     "output_type": "display_data"
    },
    {
     "name": "stdout",
     "output_type": "stream",
     "text": [
      "\n",
      "Backtesting Results ($MM):\n",
      "   quarter  Domestic office deposits_Avg  Domestic office deposits_Avg_pred\n",
      "78  2023Q2                        17.179                             17.179\n",
      "79  2023Q3                        17.253                             17.345\n",
      "80  2023Q4                        17.441                             17.497\n",
      "81  2024Q1                        17.438                             17.562\n",
      "82  2024Q2                        17.436                             17.826\n",
      "83  2024Q3                        17.640                             18.149\n",
      "84  2024Q4                        17.838                             18.651\n"
     ]
    }
   ],
   "source": [
    "from utils import plot_bt, timekey_to_quarter\n",
    "import matplotlib.pyplot as plt\n",
    "\n",
    "deposits_col = y[:-13]\n",
    "pred_col = deposits_col + '_pred'\n",
    "bt = df.tail(6+1)[['timekey', deposits_col, y]]\n",
    "bt[pred_col] = np.nan\n",
    "\n",
    "bt.loc[bt.index[0], pred_col] = bt.loc[bt.index[0], deposits_col]\n",
    "starting_value = bt[pred_col].iloc[0]\n",
    "predicted_growth_ratios = valid_oot['y_pred_scaled'].values\n",
    "bt.loc[bt.index[1:5], pred_col] = starting_value * np.cumprod(predicted_growth_ratios[:4])\n",
    "\n",
    "# t+5: Start from actual value at t+1 (index 1)\n",
    "starting_value_2 = bt.loc[bt.index[1], deposits_col]\n",
    "bt.loc[bt.index[5], pred_col] = starting_value_2 * np.prod(predicted_growth_ratios[1:5])\n",
    "\n",
    "# t+6: Start from actual value at t+2 (index 2)\n",
    "starting_value_3 = bt.loc[bt.index[2], deposits_col]\n",
    "bt.loc[bt.index[6], pred_col] = starting_value_3 * np.prod(predicted_growth_ratios[2:6])\n",
    "\n",
    "bt['quarter'] = bt['timekey'].apply(lambda x: timekey_to_quarter(x))\n",
    "\n",
    "\n",
    "fig = plot_bt(bt, deposits_col, pred_col)\n",
    "plt.show()\n",
    "print(\"\\nBacktesting Results ($MM):\")\n",
    "bt = bt.applymap(lambda x: round(x/1000000,3) if not isinstance(x,str) else x)\n",
    "print(bt[['quarter', deposits_col, pred_col]])"
   ]
  }
 ],
 "metadata": {
  "kernelspec": {
   "display_name": "deeplearning",
   "language": "python",
   "name": "deeplearning"
  },
  "language_info": {
   "codemirror_mode": {
    "name": "ipython",
    "version": 3
   },
   "file_extension": ".py",
   "mimetype": "text/x-python",
   "name": "python",
   "nbconvert_exporter": "python",
   "pygments_lexer": "ipython3",
   "version": "3.9.12"
  }
 },
 "nbformat": 4,
 "nbformat_minor": 5
}
