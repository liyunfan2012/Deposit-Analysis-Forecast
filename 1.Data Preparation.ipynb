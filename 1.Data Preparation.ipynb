{
 "cells": [
  {
   "cell_type": "markdown",
   "id": "4d72e2bd-daad-4e9a-aafd-7bb31b4ca8af",
   "metadata": {},
   "source": [
    "# Data Preparation"
   ]
  },
  {
   "cell_type": "code",
   "execution_count": 1,
   "id": "ed5a583e-f4d6-4467-a9e9-ba0bb41eef0b",
   "metadata": {},
   "outputs": [],
   "source": [
    "import pandas as pd\n",
    "pd.set_option('display.width', 1000)\n",
    "pd.set_option('display.max_columns', None)"
   ]
  },
  {
   "cell_type": "markdown",
   "id": "a355f468-4643-4050-bed2-d6f2aea9b324",
   "metadata": {},
   "source": [
    "## Drivers from FRED"
   ]
  },
  {
   "cell_type": "markdown",
   "id": "d4de5da3-8744-449d-84ac-856575ef45b9",
   "metadata": {},
   "source": [
    "- Add growth rates"
   ]
  },
  {
   "cell_type": "code",
   "execution_count": 2,
   "id": "54dd7aa1-b0e7-4078-8c21-236eb965aa0d",
   "metadata": {},
   "outputs": [],
   "source": [
    "import pandas as pd\n",
    "df_derived = pd.read_csv('./data/raw_FRED.csv')\n",
    "\n",
    "growth_vars = [  # Growth rates (QoQ, YoY)\n",
    "    'M1', 'M2', 'M3', 'CURRENCY', 'MONETARY_BASE',\n",
    "    'GDP', 'REAL_GDP', 'PERSONAL_INCOME', 'DISPOSABLE_INCOME', 'DISPOSABLE_INCOME_NOMINAL',\n",
    "    'PCE', 'REAL_PCE', 'PERSONAL_SAVINGS',\n",
    "    'CPI', 'CORE_CPI', 'PCE_INFLATION', 'CORE_PCE', 'PPI',\n",
    "    'NONFARM_PAYROLL', 'LABOR_FORCE', 'AVERAGE_HOURLY_EARNINGS',\n",
    "    'INDUSTRIAL_PRODUCTION', 'RETAIL_SALES', 'RETAIL_SALES_EXCL_AUTO',\n",
    "    'HOUSE_PRICE_INDEX', 'HOUSING_STARTS', 'NEW_HOME_SALES', 'EXISTING_HOME_SALES',\n",
    "    'COMMERCIAL_LOANS', 'CONSUMER_CREDIT', 'MORTGAGE_DEBT', 'BANK_CREDIT',\n",
    "    'ASSETS_COMMERCIAL_BANKS', 'MANUFACTURING_NEW_ORDERS', 'BUSINESS_INVENTORIES',\n",
    "    'SP500', 'WILSHIRE_5000', 'OIL_PRICE', 'GOLD_PRICE',\n",
    "    'FEDERAL_DEBT', 'GOVERNMENT_SPENDING'\n",
    "]\n",
    "for var in growth_vars:\n",
    "    if var in df_derived.columns:\n",
    "        df_derived[f'{var}_QOQ'] = df_derived[var].pct_change(fill_method=None) * 100\n",
    "        df_derived[f'{var}_YOY'] = df_derived[var].pct_change(4, fill_method=None) * 100"
   ]
  },
  {
   "cell_type": "markdown",
   "id": "7d0302dc-3b52-4ae9-a0e6-464b06c78883",
   "metadata": {},
   "source": [
    "- Add Interest rate changes"
   ]
  },
  {
   "cell_type": "code",
   "execution_count": 3,
   "id": "82c1d129-fdb3-4576-8699-054848c4ac9d",
   "metadata": {},
   "outputs": [],
   "source": [
    "# Interest rate changes (level changes)\n",
    "rate_vars = [\n",
    "    'FED_FUNDS', 'FED_FUNDS_TARGET',\n",
    "    'TREASURY_1M', 'TREASURY_3M', 'TREASURY_6M', 'TREASURY_1Y',\n",
    "    'TREASURY_2Y', 'TREASURY_3Y', 'TREASURY_5Y', 'TREASURY_7Y',\n",
    "    'TREASURY_10Y', 'TREASURY_20Y', 'TREASURY_30Y',\n",
    "    'AAA_CORPORATE', 'BBB_CORPORATE', 'HIGH_YIELD',\n",
    "    'MORTGAGE_30Y', 'MORTGAGE_15Y', 'NET_INTEREST_MARGIN']\n",
    "for var in rate_vars:\n",
    "    if var in df_derived.columns:\n",
    "        df_derived[f'{var}_CHG'] = df_derived[var].diff()"
   ]
  },
  {
   "cell_type": "markdown",
   "id": "9dab01a0-7743-41d4-be32-b08577703b21",
   "metadata": {},
   "source": [
    "- Add pct_vars change"
   ]
  },
  {
   "cell_type": "code",
   "execution_count": 4,
   "id": "5b67615e-2393-40da-aad2-395dc4dc61f4",
   "metadata": {},
   "outputs": [],
   "source": [
    "pct_vars = [\n",
    "    'UNEMPLOYMENT', 'LABOR_FORCE_PARTICIPATION', 'EMPLOYMENT_POPULATION_RATIO',\n",
    "    'SAVING_RATE', 'CAPACITY_UTILIZATION', 'HOME_OWNERSHIP_RATE',\n",
    "    'CREDIT_CARD_DELINQUENCY', 'AUTO_LOAN_DELINQUENCY']\n",
    "for var in pct_vars:\n",
    "    if var in df_derived.columns:\n",
    "        df_derived[f'{var}_CHG'] = df_derived[var].diff()"
   ]
  },
  {
   "cell_type": "markdown",
   "id": "6d3bccd2-a6ad-4941-a443-7bd64e192f2b",
   "metadata": {},
   "source": [
    "- Add spreads"
   ]
  },
  {
   "cell_type": "code",
   "execution_count": 5,
   "id": "79f044f9-08be-4a33-a57d-fbc24ed6be8e",
   "metadata": {},
   "outputs": [],
   "source": [
    "# yield curve spread\n",
    "yield_spreads = [\n",
    "    ('TREASURY_10Y', 'TREASURY_2Y', '10Y2Y'),\n",
    "    ('TREASURY_10Y', 'TREASURY_3M', '10Y3M'),\n",
    "    ('TREASURY_10Y', 'TREASURY_1Y', '10Y1Y'),\n",
    "    ('TREASURY_5Y', 'TREASURY_2Y', '5Y2Y'),\n",
    "    ('TREASURY_30Y', 'TREASURY_10Y', '30Y10Y'),\n",
    "    ('TREASURY_2Y', 'TREASURY_3M', '2Y3M')]\n",
    "for long_rate, short_rate, spread_name in yield_spreads:\n",
    "    if long_rate in df_derived.columns and short_rate in df_derived.columns:\n",
    "        df_derived[f'YIELD_CURVE_{spread_name}'] = df_derived[long_rate] - df_derived[short_rate]\n",
    "        df_derived[f'YIELD_CURVE_{spread_name}_CHG'] = df_derived[f'YIELD_CURVE_{spread_name}'].diff()\n",
    "\n",
    "#credit spreads\n",
    "credit_spreads = [\n",
    "    ('BBB_CORPORATE', 'TREASURY_10Y', 'BBB_10Y'),\n",
    "    ('AAA_CORPORATE', 'TREASURY_10Y', 'AAA_10Y'),\n",
    "    ('HIGH_YIELD', 'TREASURY_10Y', 'HY_10Y'),\n",
    "    ('BBB_CORPORATE', 'AAA_CORPORATE', 'BBB_AAA')]\n",
    "for corp_rate, base_rate, spread_name in credit_spreads:\n",
    "    if corp_rate in df_derived.columns and base_rate in df_derived.columns:\n",
    "        df_derived[f'CREDIT_SPREAD_{spread_name}'] = df_derived[corp_rate] - df_derived[base_rate]\n",
    "        df_derived[f'CREDIT_SPREAD_{spread_name}_CHG'] = df_derived[f'CREDIT_SPREAD_{spread_name}'].diff()\n",
    "\n",
    "# Mortgage spread\n",
    "if 'MORTGAGE_30Y' in df_derived.columns and 'TREASURY_10Y' in df_derived.columns:\n",
    "    df_derived['MORTGAGE_SPREAD'] = df_derived['MORTGAGE_30Y'] - df_derived['TREASURY_10Y']\n",
    "    df_derived['MORTGAGE_SPREAD_CHG'] = df_derived['MORTGAGE_SPREAD'].diff()\n",
    "\n",
    "# Real vs Nominal spreads\n",
    "if 'FED_FUNDS' in df_derived.columns and 'CPI_YOY' in df_derived.columns:\n",
    "    df_derived['REAL_FED_FUNDS'] = df_derived['FED_FUNDS'] - df_derived['CPI_YOY']\n",
    "\n",
    "if 'TREASURY_10Y' in df_derived.columns and 'CPI_YOY' in df_derived.columns:\n",
    "    df_derived['REAL_TREASURY_10Y'] = df_derived['TREASURY_10Y'] - df_derived['CPI_YOY']"
   ]
  },
  {
   "cell_type": "markdown",
   "id": "ae195d3d-a994-41f6-ba32-469ab7643567",
   "metadata": {},
   "source": [
    "- Ratios and derived metrics"
   ]
  },
  {
   "cell_type": "code",
   "execution_count": 6,
   "id": "b6c4f7ce-db4d-4f4c-86ff-b613f24dfbc5",
   "metadata": {},
   "outputs": [],
   "source": [
    "if 'PERSONAL_SAVINGS' in df_derived.columns and 'DISPOSABLE_INCOME_NOMINAL' in df_derived.columns:\n",
    "    df_derived['SAVINGS_TO_INCOME_RATIO'] = (df_derived['PERSONAL_SAVINGS'] / df_derived['DISPOSABLE_INCOME_NOMINAL']) * 100\n",
    "    \n",
    "if 'CONSUMER_CREDIT' in df_derived.columns and 'DISPOSABLE_INCOME_NOMINAL' in df_derived.columns:\n",
    "    df_derived['CREDIT_TO_INCOME_RATIO'] = (df_derived['CONSUMER_CREDIT'] / df_derived['DISPOSABLE_INCOME_NOMINAL']) * 100\n",
    "    \n",
    "if 'FEDERAL_DEBT' in df_derived.columns and 'GDP' in df_derived.columns:\n",
    "    df_derived['DEBT_TO_GDP_RATIO'] = (df_derived['FEDERAL_DEBT'] / df_derived['GDP']) * 100"
   ]
  },
  {
   "cell_type": "markdown",
   "id": "8bf64d58-a7f2-47bd-ba2f-81bd88dd295a",
   "metadata": {},
   "source": [
    "- Index change"
   ]
  },
  {
   "cell_type": "code",
   "execution_count": 7,
   "id": "b56ccc2e-e335-47e2-86b8-5f300afa53e6",
   "metadata": {},
   "outputs": [],
   "source": [
    "index_vars = ['CONSUMER_SENTIMENT', 'CONSUMER_CONFIDENCE', 'VIX', 'ECONOMIC_POLICY_UNCERTAINTY']\n",
    "for var in index_vars:\n",
    "    if var in df_derived.columns:\n",
    "        df_derived[f'{var}_CHG'] = df_derived[var].diff()\n",
    "        df_derived[f'{var}_PCT_CHG'] = df_derived[var].pct_change() * 100"
   ]
  },
  {
   "cell_type": "markdown",
   "id": "30082d43-d4bf-468b-8f79-9f56af2b71ad",
   "metadata": {},
   "source": [
    "- Lagged variables"
   ]
  },
  {
   "cell_type": "code",
   "execution_count": 8,
   "id": "6844a0c9-3194-47e9-9e5d-703869e10131",
   "metadata": {},
   "outputs": [
    {
     "name": "stdout",
     "output_type": "stream",
     "text": [
      "(104, 256)\n"
     ]
    }
   ],
   "source": [
    "new_columns = []\n",
    "\n",
    "# Extended lagged variables with multiple time periods\n",
    "lag_periods = [1, 2, 3, 4, 8, 12]  # Quarter lags (1Q, 2Q, 3Q, 1Y, 2Y, 3Y)\n",
    "\n",
    "# Core economic indicators - more comprehensive lags\n",
    "core_lag_vars = [\n",
    "    'M1', 'M2', 'M3',\n",
    "    'GDP', 'REAL_GDP', \n",
    "    'PERSONAL_INCOME', 'DISPOSABLE_INCOME',\n",
    "    'UNEMPLOYMENT', 'NONFARM_PAYROLL',\n",
    "    'FED_FUNDS', 'TREASURY_10Y', 'TREASURY_2Y',\n",
    "    'CPI', 'CORE_CPI', 'PCE_INFLATION'\n",
    "]\n",
    "\n",
    "for var in core_lag_vars:\n",
    "    if var in df_derived.columns:\n",
    "        for lag in lag_periods:\n",
    "            new_columns.append(\n",
    "                df_derived[var].shift(lag).rename(f'{var}_LAG{lag}')\n",
    "            )\n",
    "\n",
    "# Growth rates - lagged (QoQ and YoY)\n",
    "growth_lag_vars = [\n",
    "    'M2_QOQ', 'M2_YOY',\n",
    "    'REAL_GDP_QOQ', 'REAL_GDP_YOY',\n",
    "    'CPI_QOQ', 'CPI_YOY',\n",
    "    'NONFARM_PAYROLL_QOQ', 'NONFARM_PAYROLL_YOY'\n",
    "]\n",
    "\n",
    "for var in growth_lag_vars:\n",
    "    if var in df_derived.columns:\n",
    "        for lag in [1, 2, 4]:  # 1Q, 2Q, 1Y back\n",
    "            new_columns.append(\n",
    "                df_derived[var].shift(lag).rename(f'{var}_LAG{lag}')\n",
    "            )\n",
    "\n",
    "# Interest rate changes - lagged\n",
    "rate_change_vars = [\n",
    "    'FED_FUNDS_CHG', \n",
    "    'TREASURY_10Y_CHG', 'TREASURY_2Y_CHG',\n",
    "    'YIELD_CURVE_10Y2Y', 'YIELD_CURVE_10Y3M'\n",
    "]\n",
    "\n",
    "for var in rate_change_vars:\n",
    "    if var in df_derived.columns:\n",
    "        for lag in [1, 2, 4]:\n",
    "            new_columns.append(\n",
    "                df_derived[var].shift(lag).rename(f'{var}_LAG{lag}')\n",
    "            )\n",
    "\n",
    "# Rolling averages (smoothed features)\n",
    "rolling_windows = [4, 8, 12]  # 1Y, 2Y, 3Y moving averages\n",
    "\n",
    "rolling_vars = [\n",
    "    'M2', 'REAL_GDP', 'UNEMPLOYMENT', 'FED_FUNDS', \n",
    "    'CPI', 'NONFARM_PAYROLL', 'RETAIL_SALES'\n",
    "]\n",
    "\n",
    "for var in rolling_vars:\n",
    "    if var in df_derived.columns:\n",
    "        for window in rolling_windows:\n",
    "            new_columns.append(\n",
    "                df_derived[var].rolling(window=window).mean().rename(f'{var}_MA{window}')\n",
    "            )\n",
    "\n",
    "# Rate of change features (momentum)\n",
    "roc_vars = [\n",
    "    'M2', 'REAL_GDP', 'UNEMPLOYMENT', 'FED_FUNDS', 'CPI'\n",
    "]\n",
    "\n",
    "for var in roc_vars:\n",
    "    if var in df_derived.columns:\n",
    "        # 1Q momentum\n",
    "        new_columns.append(\n",
    "            (df_derived[var] - df_derived[var].shift(1)).rename(f'{var}_ROC1')\n",
    "        )\n",
    "        # 1Y momentum\n",
    "        new_columns.append(\n",
    "            (df_derived[var] - df_derived[var].shift(4)).rename(f'{var}_ROC4')\n",
    "        )\n",
    "\n",
    "# Real interest rate lags\n",
    "for lag in [1, 2, 4]:\n",
    "    fed_lag = f'FED_FUNDS_LAG{lag}'\n",
    "    cpi_lag = f'CPI_LAG{lag}'\n",
    "    treas_lag = f'TREASURY_10Y_LAG{lag}'\n",
    "    \n",
    "\n",
    "df_derived = pd.concat([df_derived] + new_columns, axis=1)\n",
    "print(df_derived.shape)"
   ]
  },
  {
   "cell_type": "markdown",
   "id": "7665634d-cd29-46b7-9fbf-47a74d5b50e7",
   "metadata": {},
   "source": [
    "## Target"
   ]
  },
  {
   "cell_type": "markdown",
   "id": "266b1461-107b-4e35-8218-5a32b2d04561",
   "metadata": {},
   "source": [
    "- Calculate average quarter balance and growth"
   ]
  },
  {
   "cell_type": "code",
   "execution_count": 9,
   "id": "7ff71591-e23c-428a-938b-2c5fb39ad24f",
   "metadata": {},
   "outputs": [
    {
     "data": {
      "text/plain": [
       "Index(['timekey', 'Domestic office deposits', 'Interest-bearing deposits', 'Noninterest-bearing deposits', 'Time deposits', 'Domestic office deposits_Avg', 'Domestic office deposits_Avg_growth_ratio', 'Domestic office deposits_Avg_growth_ratio_yoy', 'Interest-bearing deposits_Avg', 'Interest-bearing deposits_Avg_growth_ratio', 'Interest-bearing deposits_Avg_growth_ratio_yoy', 'Noninterest-bearing deposits_Avg', 'Noninterest-bearing deposits_Avg_growth_ratio', 'Noninterest-bearing deposits_Avg_growth_ratio_yoy', 'Time deposits_Avg', 'Time deposits_Avg_growth_ratio', 'Time deposits_Avg_growth_ratio_yoy'], dtype='object')"
      ]
     },
     "execution_count": 9,
     "metadata": {},
     "output_type": "execute_result"
    }
   ],
   "source": [
    "df_deposits = pd.read_csv('data/raw_FDIC_deposits.csv')\n",
    "target_cols = [col for col in df_deposits.columns if col !='timekey']\n",
    "\n",
    "for col in target_cols:\n",
    "    avg_col = f'{col}_Avg'\n",
    "    df_deposits[avg_col] = (df_deposits[col] + df_deposits[col].shift(1)) / 2\n",
    "    df_deposits[f'{col}_Avg_growth_ratio'] = df_deposits[avg_col].shift(-1) / df_deposits[avg_col]\n",
    "    df_deposits[f'{col}_Avg_growth_ratio_yoy'] = df_deposits[avg_col].shift(-4) / df_deposits[avg_col]\n",
    "df_deposits.columns"
   ]
  },
  {
   "cell_type": "markdown",
   "id": "a0fb9c9a-3618-4d04-8f1c-712d63384f79",
   "metadata": {},
   "source": [
    "## Full Modeling Data"
   ]
  },
  {
   "cell_type": "code",
   "execution_count": 10,
   "id": "4ff886bc-1eb2-476d-b368-a0ccbb1e2a98",
   "metadata": {},
   "outputs": [
    {
     "name": "stdout",
     "output_type": "stream",
     "text": [
      "86 samples, 256 drivers.\n"
     ]
    }
   ],
   "source": [
    "df_deposits = df_deposits[df_deposits['timekey'] >= 96]\n",
    "df_modeling = df_deposits.merge(df_derived, on='timekey', how='left')\n",
    "print(f'{df_modeling.shape[0]} samples, {df_derived.shape[1]} drivers.')\n",
    "df_modeling.to_csv('data/full_modeling.csv',index=False)"
   ]
  }
 ],
 "metadata": {
  "kernelspec": {
   "display_name": "deeplearning",
   "language": "python",
   "name": "deeplearning"
  },
  "language_info": {
   "codemirror_mode": {
    "name": "ipython",
    "version": 3
   },
   "file_extension": ".py",
   "mimetype": "text/x-python",
   "name": "python",
   "nbconvert_exporter": "python",
   "pygments_lexer": "ipython3",
   "version": "3.9.12"
  }
 },
 "nbformat": 4,
 "nbformat_minor": 5
}
