{
 "cells": [
  {
   "cell_type": "markdown",
   "id": "4c2e655c-f0f0-448b-865c-cd04d745d079",
   "metadata": {},
   "source": [
    "# Extract Raw Data"
   ]
  },
  {
   "cell_type": "markdown",
   "id": "9ee0d1cb-fe53-485c-aca3-112e5c98ce59",
   "metadata": {},
   "source": [
    "## Extract FRED macroeconomic variables\n",
    "\n",
    "Extract macroeconomic data from FRED website and save to `raw_FRED.csv`."
   ]
  },
  {
   "cell_type": "code",
   "execution_count": 1,
   "id": "364282e2-85cb-4259-8922-7825e0bbc9d3",
   "metadata": {},
   "outputs": [],
   "source": [
    "import pandas as pd\n",
    "pd.set_option('display.width', 1000)\n",
    "pd.set_option('display.max_columns', None)\n",
    "from fredapi import Fred\n",
    "from datetime import datetime\n",
    "import warnings\n",
    "warnings.filterwarnings('ignore')\n",
    "\n",
    "FRED_API_KEY = 'd88c01cf7faeaeb6ce15a822bb1ade64' \n",
    "START_DATE = '2000-01-01'\n",
    "END_DATE = datetime.now().strftime('%Y-%m-%d')"
   ]
  },
  {
   "cell_type": "markdown",
   "id": "dc799ca4-1b9c-4e76-952f-3615c4e66cdf",
   "metadata": {},
   "source": [
    "- Macroeconomic variable list"
   ]
  },
  {
   "cell_type": "code",
   "execution_count": 2,
   "id": "3e7eb05e-3043-4307-92fd-3818130554c4",
   "metadata": {},
   "outputs": [],
   "source": [
    "FRED_SERIES = {\n",
    "    # Money Supply\n",
    "    'M1': 'M1SL', 'M2': 'M2SL',\n",
    "    # Economic Activity\n",
    "    'GDP': 'GDP', 'REAL_GDP': 'GDPC1',\n",
    "    'PERSONAL_INCOME': 'PI', 'DISPOSABLE_INCOME': 'DSPIC96',\n",
    "    'PCE': 'PCE', 'SAVING_RATE': 'PSAVERT',\n",
    "    # Employment\n",
    "    'UNEMPLOYMENT': 'UNRATE','NONFARM_PAYROLL': 'PAYEMS','LABOR_FORCE': 'CLF16OV',\n",
    "    # Interest Rates - Federal Funds\n",
    "    'FED_FUNDS': 'FEDFUNDS',\n",
    "    # Treasury Yields\n",
    "    'TREASURY_3M': 'DGS3MO', 'TREASURY_2Y': 'DGS2', 'TREASURY_5Y': 'DGS5',\n",
    "    'TREASURY_10Y': 'DGS10', 'TREASURY_30Y': 'DGS30',\n",
    "    # Corporate Bonds\n",
    "    'BBB_CORPORATE': 'DBAA',\n",
    "    # Inflation\n",
    "    'CPI': 'CPIAUCSL', 'CORE_CPI': 'CPILFESL', 'PCE_INFLATION': 'PCEPI',\n",
    "    # Additional Economic Indicators\n",
    "    'INDUSTRIAL_PRODUCTION':'INDPRO', 'RETAIL_SALES': 'RSXFS',\n",
    "    'HOUSE_PRICE_INDEX': 'CSUSHPISA',}"
   ]
  },
  {
   "cell_type": "markdown",
   "id": "6cac2da5-c528-4688-bbb5-c22666460851",
   "metadata": {},
   "source": [
    "- Extract macroeconomic variables"
   ]
  },
  {
   "cell_type": "code",
   "execution_count": 3,
   "id": "caf4212f-91a6-45b3-a3b3-9df850b6619e",
   "metadata": {},
   "outputs": [],
   "source": [
    "fred = Fred(api_key=FRED_API_KEY)\n",
    "data_dict = {}\n",
    "failed_series = []\n",
    "\n",
    "for name, series_id in FRED_SERIES.items():\n",
    "    try:\n",
    "        series_data = fred.get_series(series_id, START_DATE, END_DATE)\n",
    "        data_dict[name] = series_data\n",
    "    except:\n",
    "        pass\n",
    "df_fred = pd.DataFrame(data_dict)"
   ]
  },
  {
   "cell_type": "markdown",
   "id": "f16add27-2df4-4863-b939-3683d0fbaf77",
   "metadata": {},
   "source": [
    "- Generate quarterly data"
   ]
  },
  {
   "cell_type": "code",
   "execution_count": 4,
   "id": "c2b19764-3570-42d5-97cc-aeac1729057e",
   "metadata": {},
   "outputs": [],
   "source": [
    "fred_quarterly_end = df_fred.resample('Q').last() #quarter-end\n",
    "fred_quarterly_avg = df_fred.resample('Q').mean() #quarter-average\n",
    "fred_quarterly = pd.concat([\n",
    "    fred_quarterly_end,\n",
    "    fred_quarterly_avg.add_suffix('_AVG')\n",
    "], axis=1)\n",
    "idx = fred_quarterly.index\n",
    "fred_quarterly.insert(0, 'timekey', (idx.year-1980)*4 + (idx.quarter-1))\n",
    "fred_quarterly.to_csv('data/raw_FRED.csv',index=False)"
   ]
  },
  {
   "cell_type": "markdown",
   "id": "8da2f684-ed44-4b95-8c6c-225115f197a4",
   "metadata": {},
   "source": [
    "## Extract FRED macroeconomic variables\n",
    "\n",
    "Extract deposit balance from `qbp-time-series-spreadsheets-second-quarter-2025.xlsx`, downloaded from FDIC website."
   ]
  },
  {
   "cell_type": "code",
   "execution_count": 5,
   "id": "a6ec3ab6-71f0-4733-be34-adabf622d91f",
   "metadata": {},
   "outputs": [],
   "source": [
    "filename = \"data/qbp-time-series-spreadsheets-second-quarter-2025.xlsx\"\n",
    "sheet_name = \"Balance Sheet\"\n",
    "\n",
    "# Load and transpose\n",
    "df = pd.read_excel(filename, sheet_name=sheet_name).iloc[4:,1:]\n",
    "df = df[df.index != 5].reset_index(drop=True)\n",
    "colnames = df.iloc[0]\n",
    "df = df.iloc[1:]\n",
    "df.columns = colnames\n",
    "df.columns.name = None\n",
    "df = df.reset_index(drop=True)\n",
    "df.columns = df.columns\n",
    "\n",
    "df = df.set_index(df.columns[0])\n",
    "df = df.T\n",
    "df.columns = df.columns.str.strip()\n",
    "df.index.name = None\n",
    "\n",
    "col_deposits = ['Domestic office deposits', \n",
    "                'Interest-bearing deposits', \n",
    "                'Noninterest-bearing deposits', \n",
    "                'Time deposits']\n",
    "df_deposits = df[col_deposits].reset_index()\n",
    "\n",
    "# Generate time key\n",
    "df_deposits['timekey'] = 0\n",
    "df_deposits.loc[:, 'timekey'] = df_deposits.loc[:, 'index'].apply(lambda q: (int(q[:4]) - 1980) * 4 + (int(q[-1]) - 1))\n",
    "df_deposits = df_deposits.drop('index', axis=1)\n",
    "df_deposits = df_deposits[['timekey'] + [col for col in df_deposits.columns if col != 'timekey']]\n",
    "# Save to csv\n",
    "df_deposits.to_csv('data/raw_FDIC_deposits.csv',index=False)"
   ]
  }
 ],
 "metadata": {
  "kernelspec": {
   "display_name": "deeplearning",
   "language": "python",
   "name": "deeplearning"
  },
  "language_info": {
   "codemirror_mode": {
    "name": "ipython",
    "version": 3
   },
   "file_extension": ".py",
   "mimetype": "text/x-python",
   "name": "python",
   "nbconvert_exporter": "python",
   "pygments_lexer": "ipython3",
   "version": "3.9.12"
  }
 },
 "nbformat": 4,
 "nbformat_minor": 5
}
