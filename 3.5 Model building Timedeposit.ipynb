{
 "cells": [
  {
   "cell_type": "markdown",
   "id": "c355e008-7a99-4544-8c45-7173bc5ae929",
   "metadata": {},
   "source": [
    "# Model Building Linear with Transformation"
   ]
  },
  {
   "cell_type": "markdown",
   "id": "6ac1f200-91cc-45a7-accd-e5e742b5e942",
   "metadata": {},
   "source": [
    "Build linear regression model for Domestic office deposits_Avg_growth_ratio."
   ]
  },
  {
   "cell_type": "code",
   "execution_count": 219,
   "id": "50270d67-e1b6-476a-9ef4-d6e842c95cd3",
   "metadata": {},
   "outputs": [],
   "source": [
    "import pandas as pd\n",
    "from sklearn.linear_model import LinearRegression\n",
    "import numpy as np\n",
    "from scipy.special import expit, logit\n",
    "y = 'Time deposits_Avg_growth_ratio'\n",
    "col_deposits = ['Domestic office deposits', \n",
    "                'Interest-bearing deposits', \n",
    "                'Noninterest-bearing deposits', \n",
    "                'Time deposits']"
   ]
  },
  {
   "cell_type": "markdown",
   "id": "594abd14-91f5-46d3-aec6-d39bf0fb9cc1",
   "metadata": {},
   "source": [
    "## Data Preparation"
   ]
  },
  {
   "cell_type": "markdown",
   "id": "a01b85d4-e93e-457b-b97e-f1fcd84cc2f2",
   "metadata": {},
   "source": [
    "### Split Train and OOT Data\n",
    "\n",
    "- Last 6 timekeys for OOT, rest for train.\n",
    "- Due to the limited samples, all non-OOT data are used for fitting model."
   ]
  },
  {
   "cell_type": "code",
   "execution_count": 220,
   "id": "4895716d-2ec2-4ed1-ae8f-fb0aedcce825",
   "metadata": {},
   "outputs": [],
   "source": [
    "df = pd.read_csv('data/full_modeling.csv').sort_values('timekey').reset_index(drop=True)\n",
    "df = df[~df[y].isnull()] \n",
    "\n",
    "# Generate full feature list\n",
    "targets = [col for col in df.columns if 'deposits' in col]\n",
    "cols_X = df.columns\n",
    "for target in col_deposits + ['timekey']:\n",
    "    cols_X = [col for col in cols_X if target not in col]\n",
    "\n",
    "oot_data = df.tail(6)\n",
    "train_data = df.iloc[:-6]\n",
    "\n",
    "X_oot, y_oot = oot_data[cols_X], oot_data[y]\n",
    "X_train, y_train = train_data[cols_X], train_data[y]"
   ]
  },
  {
   "cell_type": "markdown",
   "id": "cca8a9e3-6a94-4bbd-b95d-4513b8286e0e",
   "metadata": {},
   "source": [
    "### Target Transformation\n",
    "\n",
    "Define target tranformation\n",
    "\n",
    "$$\n",
    "y_{new} = f(y) = \\frac{\\exp[a(y-1)]}{\\exp[a(y-1)]+1}\n",
    "$$\n",
    "\n",
    "- Keep the transformation for the center data linear.\n",
    "- Bound outliers"
   ]
  },
  {
   "cell_type": "code",
   "execution_count": 221,
   "id": "688f7fe3-880a-430d-98e4-3f27f255097a",
   "metadata": {},
   "outputs": [],
   "source": [
    "#a = 0.5\n",
    "a = 0.5\n",
    "err = 0.000000001\n",
    "def f(x):\n",
    "    return expit((x - 1) * a)\n",
    "\n",
    "def f_inv(x):\n",
    "    return logit(np.clip(x, err, 1 - err)) / a + 1\n",
    "\n",
    "y_train = y_train.apply(f)"
   ]
  },
  {
   "cell_type": "markdown",
   "id": "a271f3d0-175d-47f7-8f0e-5d7453eb568b",
   "metadata": {},
   "source": [
    "### Feature Processing"
   ]
  },
  {
   "cell_type": "code",
   "execution_count": 222,
   "id": "071be419-60c3-44b1-800c-473ae74e0317",
   "metadata": {},
   "outputs": [],
   "source": [
    "from sklearn.pipeline import Pipeline\n",
    "from sklearn.preprocessing import StandardScaler\n",
    "from sklearn.impute import SimpleImputer\n",
    "from sklearn.linear_model import Lasso\n",
    "\n",
    "preprocessor = Pipeline([\n",
    "    ('imputer', SimpleImputer(strategy='median')),\n",
    "    ('scaler', StandardScaler())\n",
    "])\n",
    "\n",
    "X_train_processed = preprocessor.fit_transform(X_train)\n",
    "X_train_processed = pd.DataFrame(X_train_processed, columns=cols_X, index=X_train.index)\n",
    "\n",
    "X_oot_processed = preprocessor.transform(X_oot)  # Use transform, not fit_transform\n",
    "X_oot_processed = pd.DataFrame(X_oot_processed, columns=cols_X, index=X_oot.index)"
   ]
  },
  {
   "cell_type": "markdown",
   "id": "9d291687-dfa3-4670-aa1e-b077b60435cb",
   "metadata": {},
   "source": [
    "## Fit Model"
   ]
  },
  {
   "cell_type": "markdown",
   "id": "f90a6918-7ff3-499b-af1b-116f97ad4023",
   "metadata": {},
   "source": [
    "### Feature selection with LASSO\n",
    "\n",
    "- Linear regression with L1 regularization to force coefficients to zeros."
   ]
  },
  {
   "cell_type": "code",
   "execution_count": 223,
   "id": "467e0d62-8c0f-4a67-90eb-0d9650c15059",
   "metadata": {},
   "outputs": [
    {
     "name": "stdout",
     "output_type": "stream",
     "text": [
      "          Feature  Coefficient\n",
      "0    CPI_YOY_LAG2     0.001062\n",
      "1  FED_FUNDS_ROC4     0.000526\n",
      "2          M2_YOY    -0.000518\n",
      "3     TREASURY_2Y     0.000462\n"
     ]
    }
   ],
   "source": [
    "lasso_model = Lasso(\n",
    "    alpha=0.003,\n",
    "    max_iter=100000,\n",
    "    tol=1e-3,\n",
    "    random_state=42\n",
    ")\n",
    "\n",
    "lasso_model.fit(X_train_processed, y_train)\n",
    "\n",
    "coefficients = pd.DataFrame({\n",
    "    'Feature': cols_X,\n",
    "    'Coefficient': lasso_model.coef_.ravel()\n",
    "}).sort_values('Coefficient', ascending=False, key=abs).reset_index(drop=True)\n",
    "coefficients = coefficients[coefficients['Coefficient']!=0]\n",
    "print(coefficients)"
   ]
  },
  {
   "cell_type": "markdown",
   "id": "e11d8fbe-d517-4d2b-a0a6-9deb0c8705f1",
   "metadata": {},
   "source": [
    "### Linear regression with selected features"
   ]
  },
  {
   "cell_type": "code",
   "execution_count": 224,
   "id": "3e2bdcf5-8963-4edb-a4ce-2b9f6988082b",
   "metadata": {},
   "outputs": [
    {
     "name": "stdout",
     "output_type": "stream",
     "text": [
      "Linear Model Coefficients:\n",
      "\n",
      "          feature  coefficient\n",
      "0    CPI_YOY_LAG2     0.002911\n",
      "1  FED_FUNDS_ROC4     0.001434\n",
      "2          M2_YOY    -0.002156\n",
      "3     TREASURY_2Y     0.001079\n",
      "4       intercept     0.501026\n"
     ]
    }
   ],
   "source": [
    "# Use cols_X_short (short list of features)\n",
    "cols_X_short = coefficients['Feature'].tolist()\n",
    "#cols_X_short = [col for col in cols_X_short if col not in ['M2_ROC1']]\n",
    "X_train_processed_short = X_train_processed[cols_X_short]\n",
    "\n",
    "# Fit Linear Regression\n",
    "linear_model = LinearRegression()\n",
    "linear_model.fit(X_train_processed_short, y_train)\n",
    "\n",
    "# Extract coefficients\n",
    "all_params = np.concatenate([linear_model.coef_.ravel(), [linear_model.intercept_]])\n",
    "coef_df = pd.DataFrame({\n",
    "    \"feature\": cols_X_short + ['intercept'],\n",
    "    \"coefficient\": all_params\n",
    "})\n",
    "print(f\"Linear Model Coefficients:\\n\\n{coef_df}\")"
   ]
  },
  {
   "cell_type": "markdown",
   "id": "3b6f8e10-efce-4f14-aeda-48917df2cfe0",
   "metadata": {},
   "source": [
    "## Model performance"
   ]
  },
  {
   "cell_type": "markdown",
   "id": "b768f124-ec9a-4512-923b-658a1dbfd512",
   "metadata": {},
   "source": [
    "### Multi-Colinearity check"
   ]
  },
  {
   "cell_type": "code",
   "execution_count": 225,
   "id": "c8579194-f73e-4d13-94ef-1632ebddae2b",
   "metadata": {},
   "outputs": [
    {
     "name": "stdout",
     "output_type": "stream",
     "text": [
      "Variance Inflation Factor:\n",
      "          Feature       VIF\n",
      "3     TREASURY_2Y  1.991002\n",
      "1  FED_FUNDS_ROC4  1.919914\n",
      "2          M2_YOY  1.640962\n",
      "0    CPI_YOY_LAG2  1.432184\n"
     ]
    }
   ],
   "source": [
    "from statsmodels.stats.outliers_influence import variance_inflation_factor\n",
    "def calculate_vif(X):\n",
    "    vif_data = pd.DataFrame()\n",
    "    vif_data[\"Feature\"] = X.columns\n",
    "    vif_data[\"VIF\"] = [variance_inflation_factor(X.values, i) for i in range(X.shape[1])]\n",
    "    return vif_data.sort_values('VIF', ascending=False)\n",
    "\n",
    "vif = calculate_vif(X_train_processed_short)\n",
    "print(f\"Variance Inflation Factor:\\n{vif}\")"
   ]
  },
  {
   "cell_type": "markdown",
   "id": "cd78af39-6f32-4251-83b2-a3e6ca37497a",
   "metadata": {},
   "source": [
    "### Mean absolute error"
   ]
  },
  {
   "cell_type": "code",
   "execution_count": 226,
   "id": "4f4df11c-1d59-43b7-98fb-d6563f8b4967",
   "metadata": {},
   "outputs": [
    {
     "name": "stdout",
     "output_type": "stream",
     "text": [
      "\n",
      "Model performance\n",
      "{'train': 0.01567311684288354, 'oot': 0.03944677006066479}\n"
     ]
    }
   ],
   "source": [
    "# Train predictions\n",
    "y_pred_train = linear_model.predict(X_train_processed_short)\n",
    "valid_train = pd.DataFrame({'y_pred': y_pred_train, 'y_actual': y_train})\n",
    "# Apply inverse transformation for measuring MAE\n",
    "valid_train=valid_train.apply(f_inv)\n",
    "\n",
    "# OOT predictions\n",
    "y_pred_oot = linear_model.predict(X_oot_processed[cols_X_short])\n",
    "valid_oot = pd.DataFrame({'y_pred': y_pred_oot, 'y_actual': y_oot})\n",
    "# Apply inverse transformation for measuring MAE\n",
    "valid_oot['y_pred']=valid_oot['y_pred'].apply(f_inv)\n",
    "\n",
    "# Calculate MAE\n",
    "mae = {}\n",
    "mae['train'] = np.mean(np.abs(valid_train['y_actual'] - valid_train['y_pred']))\n",
    "mae['oot'] = np.mean(np.abs(valid_oot['y_actual'] - valid_oot['y_pred']))\n",
    "print(f'\\nModel performance\\n{mae}')"
   ]
  },
  {
   "cell_type": "markdown",
   "id": "b75d983e-dbd4-4c11-897c-8f5e39c453fc",
   "metadata": {},
   "source": [
    "### Backtesting"
   ]
  },
  {
   "cell_type": "markdown",
   "id": "afbb6390-5c23-44de-b975-20c7e50c8fa4",
   "metadata": {},
   "source": [
    "- Calculate deposits from predicted growth"
   ]
  },
  {
   "cell_type": "code",
   "execution_count": 227,
   "id": "f5f67111-d41d-40da-a19e-1147352647ef",
   "metadata": {},
   "outputs": [],
   "source": [
    "from utils import plot_bt,timekey_to_quarter\n",
    "\n",
    "deposits_col = y[:-13]\n",
    "pred_col = deposits_col + '_pred'\n",
    "\n",
    "bt = df.tail(6+1)[['timekey', deposits_col, y]]\n",
    "bt[pred_col] = np.nan\n",
    "\n",
    "# First segment: t=0 to t+4\n",
    "bt.loc[bt.index[0], pred_col] = bt.loc[bt.index[0], deposits_col]\n",
    "starting_value = bt[pred_col].iloc[0]\n",
    "predicted_growth_ratios = valid_oot['y_pred'].values  # Changed from y_pred_scaled\n",
    "\n",
    "bt.loc[bt.index[1:5], pred_col] = starting_value * np.cumprod(predicted_growth_ratios[:4])\n",
    "\n",
    "# t+5: Start from actual value at t+1 (index 1)\n",
    "starting_value_2 = bt.loc[bt.index[1], deposits_col]\n",
    "bt.loc[bt.index[5], pred_col] = starting_value_2 * np.prod(predicted_growth_ratios[1:5])\n",
    "\n",
    "# t+6: Start from actual value at t+2 (index 2)\n",
    "starting_value_3 = bt.loc[bt.index[2], deposits_col]\n",
    "bt.loc[bt.index[6], pred_col] = starting_value_3 * np.prod(predicted_growth_ratios[2:6])\n",
    "\n",
    "bt['quarter'] = bt['timekey'].apply(lambda x: timekey_to_quarter(x))"
   ]
  },
  {
   "cell_type": "markdown",
   "id": "1ac34a32-68de-40e8-b406-3d312a5b0514",
   "metadata": {},
   "source": [
    "- Plot backtesting"
   ]
  },
  {
   "cell_type": "code",
   "execution_count": 228,
   "id": "2cddebf8-2d5e-49e8-bfcc-91d2f29f2bd3",
   "metadata": {},
   "outputs": [
    {
     "data": {
      "image/png": "[encoded data removed]",
      "text/plain": [
       "<Figure size 864x432 with 1 Axes>"
      ]
     },
     "metadata": {
      "needs_background": "light"
     },
     "output_type": "display_data"
    },
    {
     "name": "stdout",
     "output_type": "stream",
     "text": [
      "\n",
      "Backtesting Results ($MM):\n",
      "   quarter  Time deposits_Avg  Time deposits_Avg_pred\n",
      "78  2023Q2              2.563                   2.563\n",
      "79  2023Q3              2.777                   2.735\n",
      "80  2023Q4              2.904                   2.910\n",
      "81  2024Q1              2.959                   3.062\n",
      "82  2024Q2              2.995                   3.186\n",
      "83  2024Q3              2.948                   3.330\n",
      "84  2024Q4              2.878                   3.337\n"
     ]
    },
    {
     "data": {
      "text/plain": [
       "<Figure size 432x288 with 0 Axes>"
      ]
     },
     "metadata": {},
     "output_type": "display_data"
    }
   ],
   "source": [
    "import matplotlib.pyplot as plt\n",
    "from utils import timekey_to_quarter\n",
    "\n",
    "def plot_bt(bt, deposits_col, pred_col,ylabel= 'Noninterest-bearing deposits',\n",
    "            title='Backtesting of 1-year Forecasted Deposits'):\n",
    "    fig, ax = plt.subplots(figsize=(12, 6))\n",
    "    \n",
    "    ax.plot(bt['quarter'], bt[deposits_col], \n",
    "            marker='o', linewidth=2, markersize=8, label='Actual Deposits')\n",
    "    ax.plot(bt['quarter'], bt[pred_col], \n",
    "            marker='s', linewidth=2, markersize=8, linestyle='--', label='Predicted Deposits')\n",
    "    \n",
    "    ax.set_ylim(bottom=0_000_000, top=5_000_000)\n",
    "    ax.set_xlabel('Quarter', fontsize=12)\n",
    "    ax.set_ylabel(ylabel, fontsize=12)\n",
    "    ax.set_title(title, fontsize=14, fontweight='bold')\n",
    "    ax.legend(fontsize=11)\n",
    "    ax.grid(True, alpha=0.3)\n",
    "    \n",
    "    plt.xticks(rotation=0)\n",
    "    plt.tight_layout()\n",
    "    \n",
    "    return fig\n",
    "fig = plot_bt(bt, deposits_col, pred_col,ylabel= 'Time deposits')\n",
    "plt.show()\n",
    "plt.savefig('figures/bt_Timedeposit.png', dpi=600, bbox_inches='tight')\n",
    "print(\"\\nBacktesting Results ($MM):\")\n",
    "bt = bt.applymap(lambda x: round(x/1000000,3) if not isinstance(x,str) else x)\n",
    "print(bt[['quarter', deposits_col, pred_col]])"
   ]
  }
 ],
 "metadata": {
  "kernelspec": {
   "display_name": "deeplearning",
   "language": "python",
   "name": "deeplearning"
  },
  "language_info": {
   "codemirror_mode": {
    "name": "ipython",
    "version": 3
   },
   "file_extension": ".py",
   "mimetype": "text/x-python",
   "name": "python",
   "nbconvert_exporter": "python",
   "pygments_lexer": "ipython3",
   "version": "3.9.12"
  }
 },
 "nbformat": 4,
 "nbformat_minor": 5
}
